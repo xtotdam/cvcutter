{
 "cells": [
  {
   "cell_type": "code",
   "execution_count": null,
   "metadata": {
    "ExecuteTime": {
     "end_time": "2016-03-04T22:54:22.348000",
     "start_time": "2016-03-04T22:54:19.151000"
    },
    "collapsed": true
   },
   "outputs": [],
   "source": [
    "import numpy as np\n",
    "import cv2\n",
    "from matplotlib import pyplot as plt\n",
    "%matplotlib inline\n",
    "import sys\n",
    "import os\n",
    "from glob import glob"
   ]
  },
  {
   "cell_type": "code",
   "execution_count": null,
   "metadata": {
    "ExecuteTime": {
     "end_time": "2016-03-04T22:54:22.365000",
     "start_time": "2016-03-04T22:54:22.350000"
    },
    "collapsed": false
   },
   "outputs": [],
   "source": [
    "srcfolder = 'src'\n",
    "folder = 'out'\n",
    "try:\n",
    "    os.mkdir(srcfolder + os.sep + folder)\n",
    "except OSError:\n",
    "    print 'Can\\'t create out folder. Maybe it exists? pass'\n",
    "    pass"
   ]
  },
  {
   "cell_type": "code",
   "execution_count": null,
   "metadata": {
    "ExecuteTime": {
     "end_time": "2016-03-04T23:07:21.728000",
     "start_time": "2016-03-04T23:07:19.582000"
    },
    "code_folding": [
     15
    ],
    "collapsed": false
   },
   "outputs": [],
   "source": [
    "for f in sorted(glob(srcfolder + os.sep + '*.jpg')):\n",
    "    orig = cv2.imread(f)\n",
    "    if orig.shape[0] > orig.shape[1]:\n",
    "        orig = np.rot90(orig)\n",
    "    size = np.array(orig.shape)[1::-1]\n",
    "    figsize = size / 250.\n",
    "    print f, ':', orig.shape, '=>', figsize\n",
    "\n",
    "    gray = cv2.cvtColor(orig, cv2.COLOR_BGR2GRAY)\n",
    "    blur = cv2.GaussianBlur(gray, (49, 49), 0)\n",
    "    ret, th = cv2.threshold(blur, 200, 255, cv2.THRESH_BINARY + cv2.THRESH_OTSU)\n",
    "    \n",
    "    verhist = np.sum(th, axis=0) / 255. / size[1]\n",
    "    horhist = np.sum(th, axis=1) / 255. / size[0]\n",
    "    \n",
    "    def borders(hist, d, frac=0.5, error=0.04):\n",
    "        '''d - direction; is in ('h','v')'''\n",
    "        plt.figure(figsize=(7,1))\n",
    "        plt.plot(hist)\n",
    "        \n",
    "        x = np.where(hist > frac * np.max(hist))\n",
    "        xmin, xmax = np.min(x), np.max(x)\n",
    "        \n",
    "        plt.axvline(xmin, c='r'); plt.axvline(xmax, c='r')\n",
    "        xmin -= error * len(hist); xmax += error * len(hist)\n",
    "        \n",
    "        if xmin < 0: xmin = 0\n",
    "        if xmax > len(hist)-1: xmax = len(hist)-1\n",
    "        \n",
    "        plt.title(d.upper() + ' histogram: ' + str(xmin) + ' -> ' + str(xmax))\n",
    "        plt.axvline(xmin, c='g'); plt.axvline(xmax, c='g')\n",
    "        plt.show(); plt.close()\n",
    "        return int(xmin), int(xmax), (int(xmin), int(xmax))\n",
    "    \n",
    "    def bordersx(hist, d, frac=0.4, error=0.04):\n",
    "        hist[0] = 0\n",
    "        hist[-1] = 0\n",
    "        hist -= frac * np.max(hist)\n",
    "        \n",
    "        plt.figure(figsize=(7,1))\n",
    "        plt.plot(hist)\n",
    "        plt.axhline(0, c='gray')\n",
    "        \n",
    "        for i in xrange(1, hist.shape[0] - 1):\n",
    "            if hist[i] == 0:\n",
    "                print 'Trying to fix zeros on', i, ':', hist[i-1:i+2],\n",
    "                hist[i] = hist[i-1] * hist[i+1]\n",
    "                print ' -> ', hist[i-1:i+2]\n",
    "        \n",
    "        b = list()\n",
    "        for i in xrange(0, hist.shape[0] - 1):\n",
    "            if hist[i] * hist[i+1] <= 0:\n",
    "                b.append(i)                \n",
    "                \n",
    "        print 'borders: ', len(b), b\n",
    "        for pt in b:\n",
    "            plt.axvline(pt, c='m')\n",
    "            \n",
    "        xmin = 0\n",
    "        xmax = len(hist) - 1\n",
    "        mdx = 0\n",
    "        for i in range(0,len(b),2):\n",
    "            if b[i+1] - b[i] > mdx:\n",
    "                mdx = b[i+1] - b[i]\n",
    "                xmin = b[i]\n",
    "                xmax = b[i+1]        \n",
    "        \n",
    "        plt.axvline(xmin, c='r'); plt.axvline(xmax, c='r')\n",
    "        xmin -= error * len(hist); xmax += error * len(hist)\n",
    "        \n",
    "        if xmin < 0: xmin = 0\n",
    "        if xmax > len(hist)-1: xmax = len(hist)-1\n",
    "        \n",
    "        plt.title(d.upper() + ' histogram: ' + str(xmin) + ' -> ' + str(xmax))\n",
    "        plt.axvline(xmin, c='g'); plt.axvline(xmax, c='g')\n",
    "        plt.show(); plt.close()\n",
    "        return int(xmin), int(xmax), b\n",
    "    \n",
    "    xmin, xmax, bx = bordersx(verhist, 'h')\n",
    "    ymin, ymax, by = bordersx(horhist, 'v')\n",
    "    \n",
    "    plt.figure(figsize=figsize, dpi=300)\n",
    "    plt.imshow(th, cmap='gray', zorder=-100)\n",
    "    plt.axhline(ymin, c='lime', lw=1.5); plt.axhline(ymax, c='lime', lw=1.5)\n",
    "    for b in by: plt.axhline(b, c='m')\n",
    "    plt.axvline(xmin, c='lime', lw=1.5); plt.axvline(xmax, c='lime', lw=1.5)\n",
    "    for b in bx: plt.axvline(b, c='m')\n",
    "    plt.xticks([]), plt.yticks([])\n",
    "    plt.show()\n",
    "    \n",
    "    orig = orig[ymin:ymax, xmin:xmax]\n",
    "       \n",
    "    th2 = cv2.adaptiveThreshold(gray[ymin:ymax, xmin:xmax], \n",
    "                                150, \n",
    "                                cv2.ADAPTIVE_THRESH_GAUSSIAN_C, \n",
    "                                cv2.THRESH_BINARY, \n",
    "                                49, \n",
    "                                15)\n",
    "    \n",
    "    try:\n",
    "        ret, th3 = cv2.threshold(th2, 100, 255, cv2.THRESH_BINARY)\n",
    "    except:\n",
    "        th3 = gray[ymin:ymax, xmin:xmax]\n",
    "    \n",
    "    plt.figure(figsize=figsize, dpi=300)\n",
    "    plt.imshow(th3, cmap='gray', zorder=-100)\n",
    "    plt.xticks([]), plt.yticks([])\n",
    "    plt.show()\n",
    "    print '='*100\n",
    "    \n",
    "    cv2.imwrite(srcfolder + os.sep + folder + os.sep + f.split('/')[-1], th3)"
   ]
  }
 ],
 "metadata": {
  "kernelspec": {
   "display_name": "Python 2",
   "language": "python",
   "name": "python2"
  },
  "language_info": {
   "codemirror_mode": {
    "name": "ipython",
    "version": 2
   },
   "file_extension": ".py",
   "mimetype": "text/x-python",
   "name": "python",
   "nbconvert_exporter": "python",
   "pygments_lexer": "ipython2",
   "version": "2.7.11"
  }
 },
 "nbformat": 4,
 "nbformat_minor": 0
}
